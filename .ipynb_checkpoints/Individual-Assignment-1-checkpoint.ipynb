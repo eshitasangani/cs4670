{
 "cells": [
  {
   "cell_type": "code",
   "execution_count": null,
   "id": "8376b9b8",
   "metadata": {},
   "outputs": [],
   "source": [
    "%pylab\n",
    "%matplotlib inline"
   ]
  },
  {
   "cell_type": "code",
   "execution_count": null,
   "id": "12c5adc1",
   "metadata": {},
   "outputs": [],
   "source": [
    "from PIL import Image\n",
    "img = np.array(Image.open('horse.jpg'))\n",
    "img = img.astype(float)/255.\n",
    "plt.imshow(img)\n"
   ]
  },
  {
   "cell_type": "code",
   "execution_count": null,
   "id": "6389bf3d",
   "metadata": {},
   "outputs": [],
   "source": [
    "import segmentation\n",
    "seg = segmentation.graph_based_segmentation(img)"
   ]
  },
  {
   "cell_type": "code",
   "execution_count": null,
   "id": "6f7cd305",
   "metadata": {},
   "outputs": [],
   "source": [
    "plt.figure(); plt.imshow(seg, cmap=plt.get_cmap('gray'))\n"
   ]
  },
  {
   "cell_type": "code",
   "execution_count": null,
   "id": "2bb0b614",
   "metadata": {},
   "outputs": [],
   "source": [
    "# We need a good threshold, since the eigenvector has continuous real values. \n",
    "# this threshold has been tuned for the 'horse' image\n",
    "cluster1 = seg>-0.005\n",
    "cluster2 = seg<=-0.005\n",
    "\n",
    "plt.figure(); plt.imshow(cluster1, cmap=plt.get_cmap('gray'))\n",
    "plt.figure(); plt.imshow(cluster2, cmap=plt.get_cmap('gray'))\n",
    "\n",
    "\n"
   ]
  },
  {
   "cell_type": "code",
   "execution_count": null,
   "id": "ae06d553",
   "metadata": {},
   "outputs": [],
   "source": []
  }
 ],
 "metadata": {
  "kernelspec": {
   "display_name": "Python 3",
   "language": "python",
   "name": "python3"
  },
  "language_info": {
   "codemirror_mode": {
    "name": "ipython",
    "version": 3
   },
   "file_extension": ".py",
   "mimetype": "text/x-python",
   "name": "python",
   "nbconvert_exporter": "python",
   "pygments_lexer": "ipython3",
   "version": "3.8.8"
  }
 },
 "nbformat": 4,
 "nbformat_minor": 5
}
